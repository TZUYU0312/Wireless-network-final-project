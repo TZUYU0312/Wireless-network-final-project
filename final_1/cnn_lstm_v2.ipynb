{
 "cells": [
  {
   "cell_type": "markdown",
   "id": "5c988cd3",
   "metadata": {},
   "source": [
    "#按照論文中敘述的CNN-LSTM模型\n",
    "#研究主題：\n",
    "##建立一個基於 CNN 與 LSTM 的深度學習混合模型，用於 網路入侵偵測系統（Intrusion Detection System, IDS）。\n",
    "\n",
    "#研究動機與背景：\n",
    "##傳統 IDS 主要使用簽章（Signature-Based）或簡單機器學習。\n",
    "\n",
    "##對新型攻擊、零日攻擊（Zero-Day Attacks）無法準確偵測。\n",
    "\n",
    "##深度學習可自動提取特徵，具備時序記憶與空間辨識能力。\n",
    "\n",
    "##CNN 擅長抽取空間特徵；LSTM 擅長分析時間序列。\n",
    "\n",
    "#模型架構：CNN-LSTM Hybrid:\n",
    "##CNN 區塊：\n",
    "\n",
    "##多個卷積層 (Conv1D) + 池化層 (MaxPooling1D)。\n",
    "\n",
    "##每層加上 BatchNormalization 與 Dropout，減少過擬合與協變偏移。\n",
    "\n",
    "##LSTM 區塊：\n",
    "\n",
    "##使用 LSTM 層學習時間序列資料的長期依賴性。\n",
    "\n",
    "##分類器：\n",
    "\n",
    "##若為二分類，最後使用 Dense(1, activation='sigmoid')。\n",
    "\n",
    "##若為多分類，使用 Dense(n_classes, activation='softmax')。"
   ]
  },
  {
   "cell_type": "code",
   "execution_count": 1,
   "id": "20be47ea",
   "metadata": {},
   "outputs": [],
   "source": [
    "import pandas as pd\n",
    "import numpy as np\n",
    "from sklearn.preprocessing import StandardScaler, LabelEncoder\n",
    "from sklearn.metrics import classification_report, precision_recall_curve, average_precision_score\n",
    "from sklearn.metrics import confusion_matrix, ConfusionMatrixDisplay\n",
    "from sklearn.feature_selection import SelectKBest, f_classif\n",
    "import matplotlib.pyplot as plt\n",
    "import seaborn as sns\n",
    "\n",
    "\n",
    "from tensorflow.keras.models import Sequential\n",
    "from tensorflow.keras.layers import Conv1D, LSTM, Dense, Dropout, MaxPooling1D, Flatten\n",
    "from tensorflow.keras.layers import BatchNormalization\n",
    "from tensorflow.keras.callbacks import EarlyStopping"
   ]
  },
  {
   "cell_type": "markdown",
   "id": "1b59ce76",
   "metadata": {},
   "source": [
    "# Step 1：資料載入與預處理"
   ]
  },
  {
   "cell_type": "code",
   "execution_count": 2,
   "id": "24f38511",
   "metadata": {},
   "outputs": [
    {
     "name": "stderr",
     "output_type": "stream",
     "text": [
      "C:\\Users\\User\\AppData\\Local\\Temp\\ipykernel_38772\\3968284566.py:1: UserWarning: Could not infer format, so each element will be parsed individually, falling back to `dateutil`. To ensure parsing is consistent and as-expected, please specify a format.\n",
      "  df = pd.read_csv(\"interface_flows_3.csv\", parse_dates=[\"bidirectional_first_seen_ms\",\"bidirectional_last_seen_ms\",\"src2dst_first_seen_ms\",\"src2dst_last_seen_ms\",\"dst2src_first_seen_ms\",\"dst2src_last_seen_ms\"])\n",
      "C:\\Users\\User\\AppData\\Local\\Temp\\ipykernel_38772\\3968284566.py:1: UserWarning: Could not infer format, so each element will be parsed individually, falling back to `dateutil`. To ensure parsing is consistent and as-expected, please specify a format.\n",
      "  df = pd.read_csv(\"interface_flows_3.csv\", parse_dates=[\"bidirectional_first_seen_ms\",\"bidirectional_last_seen_ms\",\"src2dst_first_seen_ms\",\"src2dst_last_seen_ms\",\"dst2src_first_seen_ms\",\"dst2src_last_seen_ms\"])\n",
      "C:\\Users\\User\\AppData\\Local\\Temp\\ipykernel_38772\\3968284566.py:1: UserWarning: Could not infer format, so each element will be parsed individually, falling back to `dateutil`. To ensure parsing is consistent and as-expected, please specify a format.\n",
      "  df = pd.read_csv(\"interface_flows_3.csv\", parse_dates=[\"bidirectional_first_seen_ms\",\"bidirectional_last_seen_ms\",\"src2dst_first_seen_ms\",\"src2dst_last_seen_ms\",\"dst2src_first_seen_ms\",\"dst2src_last_seen_ms\"])\n",
      "C:\\Users\\User\\AppData\\Local\\Temp\\ipykernel_38772\\3968284566.py:1: UserWarning: Could not infer format, so each element will be parsed individually, falling back to `dateutil`. To ensure parsing is consistent and as-expected, please specify a format.\n",
      "  df = pd.read_csv(\"interface_flows_3.csv\", parse_dates=[\"bidirectional_first_seen_ms\",\"bidirectional_last_seen_ms\",\"src2dst_first_seen_ms\",\"src2dst_last_seen_ms\",\"dst2src_first_seen_ms\",\"dst2src_last_seen_ms\"])\n",
      "C:\\Users\\User\\AppData\\Local\\Temp\\ipykernel_38772\\3968284566.py:1: UserWarning: Could not infer format, so each element will be parsed individually, falling back to `dateutil`. To ensure parsing is consistent and as-expected, please specify a format.\n",
      "  df = pd.read_csv(\"interface_flows_3.csv\", parse_dates=[\"bidirectional_first_seen_ms\",\"bidirectional_last_seen_ms\",\"src2dst_first_seen_ms\",\"src2dst_last_seen_ms\",\"dst2src_first_seen_ms\",\"dst2src_last_seen_ms\"])\n",
      "C:\\Users\\User\\AppData\\Local\\Temp\\ipykernel_38772\\3968284566.py:1: UserWarning: Could not infer format, so each element will be parsed individually, falling back to `dateutil`. To ensure parsing is consistent and as-expected, please specify a format.\n",
      "  df = pd.read_csv(\"interface_flows_3.csv\", parse_dates=[\"bidirectional_first_seen_ms\",\"bidirectional_last_seen_ms\",\"src2dst_first_seen_ms\",\"src2dst_last_seen_ms\",\"dst2src_first_seen_ms\",\"dst2src_last_seen_ms\"])\n"
     ]
    }
   ],
   "source": [
    "df = pd.read_csv(\"interface_flows_3.csv\", parse_dates=[\"bidirectional_first_seen_ms\",\"bidirectional_last_seen_ms\",\"src2dst_first_seen_ms\",\"src2dst_last_seen_ms\",\"dst2src_first_seen_ms\",\"dst2src_last_seen_ms\"])\n",
    "#df = pd.read_csv(\"data_change.csv\", parse_dates=[\"bidirectional_first_seen_ms\",\"bidirectional_last_seen_ms\",\"src2dst_first_seen_ms\",\"src2dst_last_seen_ms\",\"dst2src_first_seen_ms\",\"dst2src_last_seen_ms\"])"
   ]
  },
  {
   "cell_type": "code",
   "execution_count": 3,
   "id": "90acd703",
   "metadata": {},
   "outputs": [],
   "source": [
    "#df[['Source', 'Destination', *_]] = df['Flow ID'].str.split('-', expand=True)\n",
    "df = df.sort_values(\"bidirectional_first_seen_ms\")"
   ]
  },
  {
   "cell_type": "code",
   "execution_count": 4,
   "id": "a5c21b5d",
   "metadata": {},
   "outputs": [],
   "source": [
    "df = df.drop(columns=[\"id\",\n",
    "                       \"src_ip\", \n",
    "                       \"src_mac\", \n",
    "                       \"src_oui\", \n",
    "                       \"src_port\", \n",
    "                       \"dst_ip\", \n",
    "                       \"dst_mac\",\n",
    "                       \"dst_oui\",\n",
    "                       \"dst_port\",\n",
    "                       \"protocol\",\n",
    "                       \"ip_version\",\n",
    "                       \"vlan_id\",\n",
    "                       \"tunnel_id\",\n",
    "                       \"bidirectional_first_seen_ms\",\n",
    "                       \"bidirectional_last_seen_ms\",\n",
    "                       \"src2dst_first_seen_ms\",\n",
    "                        \"src2dst_last_seen_ms\",\n",
    "                        \"dst2src_first_seen_ms\",\n",
    "                        \"dst2src_last_seen_ms\",\n",
    "                        \"application_name\",\n",
    "                        \"application_category_name\",\n",
    "                        \"application_is_guessed\",\n",
    "                        \"requested_server_name\",\n",
    "                        \"client_fingerprint\",\n",
    "                        \"server_fingerprint\",\n",
    "                        \"user_agent\",\n",
    "                        \"content_type\"\n",
    "                       ], errors='ignore')\n",
    "\n"
   ]
  },
  {
   "cell_type": "code",
   "execution_count": 5,
   "id": "2271769b",
   "metadata": {},
   "outputs": [
    {
     "name": "stdout",
     "output_type": "stream",
     "text": [
      "欄位數量: 60\n",
      "['expiration_id', 'bidirectional_duration_ms', 'bidirectional_packets', 'bidirectional_bytes', 'src2dst_duration_ms', 'src2dst_packets', 'src2dst_bytes', 'dst2src_duration_ms', 'dst2src_packets', 'dst2src_bytes', 'bidirectional_min_ps', 'bidirectional_mean_ps', 'bidirectional_stddev_ps', 'bidirectional_max_ps', 'src2dst_min_ps', 'src2dst_mean_ps', 'src2dst_stddev_ps', 'src2dst_max_ps', 'dst2src_min_ps', 'dst2src_mean_ps', 'dst2src_stddev_ps', 'dst2src_max_ps', 'bidirectional_min_piat_ms', 'bidirectional_mean_piat_ms', 'bidirectional_stddev_piat_ms', 'bidirectional_max_piat_ms', 'src2dst_min_piat_ms', 'src2dst_mean_piat_ms', 'src2dst_stddev_piat_ms', 'src2dst_max_piat_ms', 'dst2src_min_piat_ms', 'dst2src_mean_piat_ms', 'dst2src_stddev_piat_ms', 'dst2src_max_piat_ms', 'bidirectional_syn_packets', 'bidirectional_cwr_packets', 'bidirectional_ece_packets', 'bidirectional_urg_packets', 'bidirectional_ack_packets', 'bidirectional_psh_packets', 'bidirectional_rst_packets', 'bidirectional_fin_packets', 'src2dst_syn_packets', 'src2dst_cwr_packets', 'src2dst_ece_packets', 'src2dst_urg_packets', 'src2dst_ack_packets', 'src2dst_psh_packets', 'src2dst_rst_packets', 'src2dst_fin_packets', 'dst2src_syn_packets', 'dst2src_cwr_packets', 'dst2src_ece_packets', 'dst2src_urg_packets', 'dst2src_ack_packets', 'dst2src_psh_packets', 'dst2src_rst_packets', 'dst2src_fin_packets', 'application_confidence', 'Label']\n"
     ]
    }
   ],
   "source": [
    "print(f\"欄位數量: {len(df.columns)}\")\n",
    "print(df.columns.tolist())"
   ]
  },
  {
   "cell_type": "code",
   "execution_count": 6,
   "id": "52f9cd74",
   "metadata": {},
   "outputs": [],
   "source": [
    "# Label encoding\n",
    "le = LabelEncoder()\n",
    "df['Label_encoded'] = le.fit_transform(df['Label'])\n",
    "\n",
    "X = df.drop(columns=[\"Label\", \"Label_encoded\"])\n",
    "X = X.apply(pd.to_numeric, errors='coerce').fillna(0)\n",
    "y = df['Label_encoded'].values"
   ]
  },
  {
   "cell_type": "markdown",
   "id": "64b31fcf",
   "metadata": {},
   "source": [
    "# === 2. 標準化與序列化（以時間為序列）==="
   ]
  },
  {
   "cell_type": "code",
   "execution_count": 7,
   "id": "9092b7a1",
   "metadata": {},
   "outputs": [
    {
     "name": "stderr",
     "output_type": "stream",
     "text": [
      "c:\\Users\\User\\AppData\\Local\\Programs\\Python\\Python310\\lib\\site-packages\\sklearn\\feature_selection\\_univariate_selection.py:111: UserWarning: Features [35 36 37 43 44 45 51 52 53] are constant.\n",
      "  warnings.warn(\"Features %s are constant.\" % constant_features_idx, UserWarning)\n",
      "c:\\Users\\User\\AppData\\Local\\Programs\\Python\\Python310\\lib\\site-packages\\sklearn\\feature_selection\\_univariate_selection.py:112: RuntimeWarning: invalid value encountered in divide\n",
      "  f = msb / msw\n"
     ]
    }
   ],
   "source": [
    "scaler = StandardScaler()\n",
    "# 特徵數可以試 50（論文提到是最佳）\n",
    "k_best = SelectKBest(score_func=f_classif, k=20)\n",
    "X_selected = k_best.fit_transform(X, y)\n",
    "X_scaled = scaler.fit_transform(X_selected)\n",
    "\n",
    "def create_sequences(X, y, window_size=10):\n",
    "    X_seq, y_seq = [], []\n",
    "    for i in range(len(X) - window_size):\n",
    "        X_seq.append(X[i:i+window_size])\n",
    "        y_seq.append(y[i+window_size])  # 預測最後一筆\n",
    "    return np.array(X_seq), np.array(y_seq)\n",
    "\n",
    "X_seq, y_seq = create_sequences(X_scaled, y, window_size=10)\n",
    "\n",
    "# 分割訓練與測試\n",
    "split = int(0.7 * len(X_seq))\n",
    "X_train, X_test = X_seq[:split], X_seq[split:]\n",
    "y_train, y_test = y_seq[:split], y_seq[split:]"
   ]
  },
  {
   "cell_type": "code",
   "execution_count": 8,
   "id": "a4820aa2",
   "metadata": {},
   "outputs": [
    {
     "data": {
      "text/plain": [
       "['scaler.save']"
      ]
     },
     "execution_count": 8,
     "metadata": {},
     "output_type": "execute_result"
    }
   ],
   "source": [
    "import joblib\n",
    "joblib.dump(k_best, 'kbest.save')\n",
    "joblib.dump(scaler, 'scaler.save')"
   ]
  },
  {
   "cell_type": "markdown",
   "id": "f7e60690",
   "metadata": {},
   "source": [
    "# === 3. CNN-LSTM 模型建立 ==="
   ]
  },
  {
   "cell_type": "code",
   "execution_count": 9,
   "id": "83f059e9",
   "metadata": {},
   "outputs": [
    {
     "name": "stderr",
     "output_type": "stream",
     "text": [
      "c:\\Users\\User\\AppData\\Local\\Programs\\Python\\Python310\\lib\\site-packages\\keras\\src\\layers\\convolutional\\base_conv.py:107: UserWarning: Do not pass an `input_shape`/`input_dim` argument to a layer. When using Sequential models, prefer using an `Input(shape)` object as the first layer in the model instead.\n",
      "  super().__init__(activity_regularizer=activity_regularizer, **kwargs)\n"
     ]
    }
   ],
   "source": [
    "model = Sequential()\n",
    "model.add(Conv1D(filters=64, kernel_size=3, activation='relu', input_shape=(X_train.shape[1], X_train.shape[2])))\n",
    "model.add(MaxPooling1D(pool_size=2))\n",
    "model.add(BatchNormalization())\n",
    "model.add(Dropout(0.2))\n",
    "model.add(LSTM(64, return_sequences=True))  # 第一層 LSTM return_sequences=True 才能接第二層\n",
    "model.add(Dropout(0.2))\n",
    "\n",
    "# 第二層\n",
    "model.add(Conv1D(filters=32, kernel_size=3, activation='relu'))\n",
    "model.add(MaxPooling1D(pool_size=2))\n",
    "model.add(BatchNormalization())\n",
    "model.add(Dropout(0.2))\n",
    "model.add(LSTM(32))  # 最後一層 LSTM 不需 return_sequences\n",
    "\n",
    "# 最終分類層\n",
    "model.add(Dense(32, activation='relu'))\n",
    "model.add(Dense(1, activation='sigmoid'))  # 二分類\n",
    "\n",
    "model.compile(loss='binary_crossentropy', optimizer='adam', metrics=['accuracy'])"
   ]
  },
  {
   "cell_type": "markdown",
   "id": "97dd36cf",
   "metadata": {},
   "source": [
    "# === 4. 訓練 ==="
   ]
  },
  {
   "cell_type": "code",
   "execution_count": 10,
   "id": "a5b9b10f",
   "metadata": {},
   "outputs": [
    {
     "name": "stdout",
     "output_type": "stream",
     "text": [
      "Epoch 1/10\n",
      "\u001b[1m100/100\u001b[0m \u001b[32m━━━━━━━━━━━━━━━━━━━━\u001b[0m\u001b[37m\u001b[0m \u001b[1m4s\u001b[0m 10ms/step - accuracy: 0.8615 - loss: 0.4862 - val_accuracy: 0.9739 - val_loss: 0.1604\n",
      "Epoch 2/10\n",
      "\u001b[1m100/100\u001b[0m \u001b[32m━━━━━━━━━━━━━━━━━━━━\u001b[0m\u001b[37m\u001b[0m \u001b[1m1s\u001b[0m 6ms/step - accuracy: 0.9742 - loss: 0.1033 - val_accuracy: 0.9831 - val_loss: 0.0858\n",
      "Epoch 3/10\n",
      "\u001b[1m100/100\u001b[0m \u001b[32m━━━━━━━━━━━━━━━━━━━━\u001b[0m\u001b[37m\u001b[0m \u001b[1m1s\u001b[0m 6ms/step - accuracy: 0.9756 - loss: 0.0947 - val_accuracy: 0.9838 - val_loss: 0.0794\n",
      "Epoch 4/10\n",
      "\u001b[1m100/100\u001b[0m \u001b[32m━━━━━━━━━━━━━━━━━━━━\u001b[0m\u001b[37m\u001b[0m \u001b[1m1s\u001b[0m 6ms/step - accuracy: 0.9814 - loss: 0.0763 - val_accuracy: 0.9838 - val_loss: 0.0808\n",
      "Epoch 5/10\n",
      "\u001b[1m100/100\u001b[0m \u001b[32m━━━━━━━━━━━━━━━━━━━━\u001b[0m\u001b[37m\u001b[0m \u001b[1m1s\u001b[0m 6ms/step - accuracy: 0.9802 - loss: 0.0775 - val_accuracy: 0.9838 - val_loss: 0.0796\n"
     ]
    },
    {
     "data": {
      "text/plain": [
       "<keras.src.callbacks.history.History at 0x1fcd9291cf0>"
      ]
     },
     "execution_count": 10,
     "metadata": {},
     "output_type": "execute_result"
    }
   ],
   "source": [
    "model.fit(X_train, y_train, epochs=10, batch_size=128, validation_split=0.1,\n",
    "          callbacks=[EarlyStopping(monitor='val_loss', patience=2)], verbose=1)"
   ]
  },
  {
   "cell_type": "code",
   "execution_count": 11,
   "id": "1c9445ad",
   "metadata": {},
   "outputs": [
    {
     "name": "stderr",
     "output_type": "stream",
     "text": [
      "WARNING:absl:You are saving your model as an HDF5 file via `model.save()` or `keras.saving.save_model(model)`. This file format is considered legacy. We recommend using instead the native Keras format, e.g. `model.save('my_model.keras')` or `keras.saving.save_model(model, 'my_model.keras')`. \n"
     ]
    }
   ],
   "source": [
    "model.save('cnn_lstm_model.h5')"
   ]
  },
  {
   "cell_type": "markdown",
   "id": "145f2807",
   "metadata": {},
   "source": [
    "# === 5. 評估 ==="
   ]
  },
  {
   "cell_type": "code",
   "execution_count": 12,
   "id": "10d15c2f",
   "metadata": {},
   "outputs": [
    {
     "name": "stdout",
     "output_type": "stream",
     "text": [
      "\u001b[1m191/191\u001b[0m \u001b[32m━━━━━━━━━━━━━━━━━━━━\u001b[0m\u001b[37m\u001b[0m \u001b[1m1s\u001b[0m 3ms/step\n",
      "\n",
      "=== Classification Report (CNN-LSTM) ===\n",
      "              precision    recall  f1-score   support\n",
      "\n",
      "      normal       0.97      0.98      0.98      4655\n",
      "   syn_flood       0.93      0.90      0.92      1428\n",
      "\n",
      "    accuracy                           0.96      6083\n",
      "   macro avg       0.95      0.94      0.95      6083\n",
      "weighted avg       0.96      0.96      0.96      6083\n",
      "\n"
     ]
    },
    {
     "data": {
      "image/png": "[encoded data removed]",
      "text/plain": [
       "<Figure size 800x600 with 1 Axes>"
      ]
     },
     "metadata": {},
     "output_type": "display_data"
    },
    {
     "data": {
      "image/png": "[encoded data removed]",
      "text/plain": [
       "<Figure size 640x480 with 2 Axes>"
      ]
     },
     "metadata": {},
     "output_type": "display_data"
    }
   ],
   "source": [
    "y_prob = model.predict(X_test).ravel()\n",
    "y_pred = (y_prob > 0.5).astype(int)\n",
    "\n",
    "print(\"\\n=== Classification Report (CNN-LSTM) ===\")\n",
    "print(classification_report(y_test, y_pred, target_names=le.classes_))\n",
    "\n",
    "# PR Curve\n",
    "precision, recall, _ = precision_recall_curve(y_test, y_prob)\n",
    "ap = average_precision_score(y_test, y_prob)\n",
    "\n",
    "plt.figure(figsize=(8,6))\n",
    "plt.plot(recall, precision, label=f'AP = {ap:.2f}')\n",
    "plt.xlabel(\"Recall\")\n",
    "plt.ylabel(\"Precision\")\n",
    "plt.title(\"PR Curve (CNN-LSTM)\")\n",
    "plt.grid()\n",
    "plt.legend()\n",
    "plt.show()\n",
    "\n",
    "\n",
    "#confusion matrix\n",
    "cm = confusion_matrix(y_test, y_pred)\n",
    "disp = ConfusionMatrixDisplay(confusion_matrix=cm, display_labels=le.classes_)\n",
    "disp.plot(cmap='Blues')\n",
    "plt.title(\"Confusion Matrix (CNN-LSTM)\")\n",
    "plt.show()\n"
   ]
  }
 ],
 "metadata": {
  "kernelspec": {
   "display_name": "Python 3",
   "language": "python",
   "name": "python3"
  },
  "language_info": {
   "codemirror_mode": {
    "name": "ipython",
    "version": 3
   },
   "file_extension": ".py",
   "mimetype": "text/x-python",
   "name": "python",
   "nbconvert_exporter": "python",
   "pygments_lexer": "ipython3",
   "version": "3.10.7"
  }
 },
 "nbformat": 4,
 "nbformat_minor": 5
}
